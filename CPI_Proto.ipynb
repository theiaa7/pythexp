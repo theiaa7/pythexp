{
  "nbformat": 4,
  "nbformat_minor": 0,
  "metadata": {
    "colab": {
      "provenance": [],
      "authorship_tag": "ABX9TyPzlhiLghslifFQFDXbYV51",
      "include_colab_link": true
    },
    "kernelspec": {
      "name": "python3",
      "display_name": "Python 3"
    },
    "language_info": {
      "name": "python"
    }
  },
  "cells": [
    {
      "cell_type": "markdown",
      "metadata": {
        "id": "view-in-github",
        "colab_type": "text"
      },
      "source": [
        "<a href=\"https://colab.research.google.com/github/theiaa7/pythexp/blob/main/CPI_Proto.ipynb\" target=\"_parent\"><img src=\"https://colab.research.google.com/assets/colab-badge.svg\" alt=\"Open In Colab\"/></a>"
      ]
    },
    {
      "cell_type": "markdown",
      "source": [
        "## CPI alg test\n",
        "CPI adalah Composite perfomance index Metode CPI menggunakan pemecahan masalah dengan sistem Multiple Criteria Decision Making (MCDM) yang menentukan urutan atau prioritas dalam analisis multikriteria."
      ],
      "metadata": {
        "id": "eVyg2NqpBxoL"
      }
    },
    {
      "cell_type": "code",
      "execution_count": null,
      "metadata": {
        "colab": {
          "base_uri": "https://localhost:8080/"
        },
        "id": "9zAojNMZ12kN",
        "outputId": "a149924d-98ff-4595-ec6c-ac807369e693"
      },
      "outputs": [
        {
          "name": "stdout",
          "output_type": "stream",
          "text": [
            "Enter number of elements : 5\n"
          ]
        }
      ],
      "source": [
        "entitas = []\n",
        "n = int(input(\"Enter number of elements : \"))"
      ]
    },
    {
      "cell_type": "code",
      "source": [
        "for i in range(0, n):\n",
        "    ele = input()\n",
        "    # adding the element\n",
        "    entitas.append(ele)\n",
        "print(entitas)"
      ],
      "metadata": {
        "colab": {
          "base_uri": "https://localhost:8080/"
        },
        "id": "1CSAOWeh3sl1",
        "outputId": "a4719cbb-c2ca-4b8c-8415-18320e9bdf16"
      },
      "execution_count": null,
      "outputs": [
        {
          "name": "stdout",
          "output_type": "stream",
          "text": [
            "abim\n",
            "mabi\n",
            "ibam\n",
            "bami\n",
            "ambi\n"
          ]
        }
      ]
    },
    {
      "cell_type": "markdown",
      "source": [
        "## Input Kinerja"
      ],
      "metadata": {
        "id": "ED-4wZ0NB1Hs"
      }
    },
    {
      "cell_type": "code",
      "source": [
        "kinerja = []\n",
        "n = int(input(\"Enter number of elements : \"))"
      ],
      "metadata": {
        "colab": {
          "base_uri": "https://localhost:8080/"
        },
        "id": "h7ImfdnZB0yi",
        "outputId": "ada4d206-3cae-4597-f10a-d75e5c1415f7"
      },
      "execution_count": null,
      "outputs": [
        {
          "name": "stdout",
          "output_type": "stream",
          "text": [
            "Enter number of elements : 5\n"
          ]
        }
      ]
    },
    {
      "cell_type": "code",
      "source": [
        "for i in range(0, n):\n",
        "    ele = input()\n",
        "    # adding the element\n",
        "    kinerja.append(ele)\n",
        "print(kinerja)"
      ],
      "metadata": {
        "colab": {
          "base_uri": "https://localhost:8080/"
        },
        "id": "3hEYFELVB8IH",
        "outputId": "d522d5fc-490c-4a14-83f7-61c9e6bbd389"
      },
      "execution_count": null,
      "outputs": [
        {
          "output_type": "stream",
          "name": "stdout",
          "text": [
            "pengalaman\n",
            "pendidikan\n",
            "keterlambatan\n",
            "kecerdasan\n",
            "emosi\n",
            "['pengalaman', 'pendidikan', 'keterlambatan', 'kecerdasan', 'emosi']\n"
          ]
        }
      ]
    },
    {
      "cell_type": "markdown",
      "source": [
        "## Input Tren"
      ],
      "metadata": {
        "id": "sNhDLUqGCCg8"
      }
    },
    {
      "cell_type": "code",
      "source": [
        "tren = []\n",
        "for i in range(0, n):\n",
        "    ele = input()\n",
        "    # adding the element\n",
        "    tren.append(ele)\n",
        "print(tren)"
      ],
      "metadata": {
        "colab": {
          "base_uri": "https://localhost:8080/"
        },
        "id": "W8jTgXaHCHkR",
        "outputId": "aa07be4a-3f43-453e-8980-3143585fa039"
      },
      "execution_count": null,
      "outputs": [
        {
          "output_type": "stream",
          "name": "stdout",
          "text": [
            "pstf\n",
            "pstf\n",
            "ngtfg\n",
            "pstf\n",
            "ngtf\n",
            "['pstf', 'pstf', 'ngtfg', 'pstf', 'ngtf']\n"
          ]
        }
      ]
    },
    {
      "cell_type": "markdown",
      "source": [
        "## Input Bobot"
      ],
      "metadata": {
        "id": "MWyAfqzaCLA-"
      }
    },
    {
      "cell_type": "code",
      "source": [
        "bobot = []\n",
        "for i in range(0, n):\n",
        "    ele = float(input())\n",
        "    # adding the element\n",
        "    bobot.append(ele)\n",
        "print(bobot)"
      ],
      "metadata": {
        "colab": {
          "base_uri": "https://localhost:8080/"
        },
        "id": "eKRYWQExCN7V",
        "outputId": "b0e1056f-0603-4552-ecec-9a54231b2487"
      },
      "execution_count": null,
      "outputs": [
        {
          "output_type": "stream",
          "name": "stdout",
          "text": [
            "0.35\n",
            "0.15\n",
            "0.15\n",
            "0.15\n",
            "0.20\n",
            "[0.35, 0.15, 0.15, 0.15, 0.2]\n"
          ]
        }
      ]
    },
    {
      "cell_type": "code",
      "source": [
        "skor = []\n",
        "tmp = []\n",
        "for i in range(0, n):\n",
        "  for j in range(0, n):\n",
        "    aw = input()\n",
        "    tmp.append(aw)\n",
        "    if len(tmp) == n:\n",
        "      skor.append(tmp)\n",
        "      tmp = []\n",
        "print(skor)"
      ],
      "metadata": {
        "colab": {
          "base_uri": "https://localhost:8080/"
        },
        "id": "z5_7mg1354YV",
        "outputId": "c4f0a727-6f97-42ba-a632-5d9491370a22"
      },
      "execution_count": null,
      "outputs": [
        {
          "output_type": "stream",
          "name": "stdout",
          "text": [
            "4\n",
            "4\n",
            "4\n",
            "4\n",
            "4\n",
            "5\n",
            "5\n",
            "5\n",
            "5\n",
            "5\n",
            "1\n",
            "1\n",
            "\n",
            "1\n",
            "1\n",
            "2\n",
            "3\n",
            "4\n",
            "5\n",
            "6\n",
            "7\n",
            "8\n",
            "1\n",
            "2\n",
            "3\n",
            "[['4', '4', '4', '4', '4'], ['5', '5', '5', '5', '5'], ['1', '1', '', '1', '1'], ['2', '3', '4', '5', '6'], ['7', '8', '1', '2', '3']]\n"
          ]
        }
      ]
    },
    {
      "cell_type": "code",
      "source": [
        "print(\"Nama : \" + str(entitas))\n",
        "print(\"Kinerja : \" + str(kinerja))\n",
        "print(\"Tren : \" + str(tren))\n",
        "print(\"Bobot : \" + str(bobot))\n",
        "print(\"Skor : \" + str(skor))"
      ],
      "metadata": {
        "colab": {
          "base_uri": "https://localhost:8080/"
        },
        "id": "xA_I4G_rAvBy",
        "outputId": "343e0cea-cb65-4f7d-87ec-326850f64216"
      },
      "execution_count": null,
      "outputs": [
        {
          "output_type": "stream",
          "name": "stdout",
          "text": [
            "Nama : ['abim', 'mabi', 'ibam', 'bami', 'ambi']\n",
            "Kinerja : ['pengalaman', 'pendidikan', 'keterlambatan', 'kecerdasan', 'emosi']\n",
            "Tren : ['pstf', 'pstf', 'ngtfg', 'pstf', 'ngtf']\n",
            "Bobot : [0.35, 0.15, 0.15, 0.15, 0.2]\n",
            "Skor : [['4', '2', '6', '8', '5'], ['3', '6', '8', '9', '0'], ['1', '2', '3', '7', '5'], ['7', '9', '5', '2', '3'], ['2', '7', '8', '9', '0']]\n"
          ]
        }
      ]
    }
  ]
}